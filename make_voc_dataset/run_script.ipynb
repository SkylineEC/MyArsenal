{
 "cells": [
  {
   "cell_type": "code",
   "execution_count": 1,
   "source": [
    "!python bd100k_to_xml.py"
   ],
   "outputs": [
    {
     "output_type": "stream",
     "name": "stdout",
     "text": [
      "100%|█████████████████████████████████████| 69863/69863 [16:51<00:00, 69.08it/s]\n",
      "100%|█████████████████████████████████████| 10000/10000 [02:05<00:00, 79.99it/s]\n",
      "{'bike', 'traffic sign', 'rider', 'person', 'motor', 'traffic light', 'train', 'truck', 'bus', 'car'}\n"
     ]
    }
   ],
   "metadata": {}
  },
  {
   "cell_type": "code",
   "execution_count": 2,
   "source": [
    "!python change_name.py"
   ],
   "outputs": [
    {
     "output_type": "stream",
     "name": "stdout",
     "text": [
      "70000it [29:46, 39.19it/s]\n",
      "10000it [04:33, 36.63it/s]\n",
      "----------------------------\n",
      "A total of  0  images failed to be renamed\n",
      "----------------------------\n",
      "A total of  1764  daytime clear weather images were renamed successfully\n",
      "============================\n",
      "A total of  3274  nighttime clear weather images were renamed successfully\n",
      "============================\n"
     ]
    }
   ],
   "metadata": {}
  },
  {
   "cell_type": "code",
   "execution_count": 4,
   "source": [
    "import os\n",
    "dir1 = \"/home/jiawen/proj/VOCdevkit2007/VOC2007/JPEGImages\"\n",
    "dir2 = \"/home/jiawen/proj/VOCdevkit2007/VOC2007/Annotations\"\n",
    "print(len(os.listdir(dir1)))\n",
    "print(len(os.listdir(dir2)))"
   ],
   "outputs": [
    {
     "output_type": "stream",
     "name": "stdout",
     "text": [
      "37766\n",
      "37766\n"
     ]
    }
   ],
   "metadata": {
    "tags": []
   }
  },
  {
   "cell_type": "code",
   "execution_count": 30,
   "source": [
    "!python /home/jiawen/proj/MyArsenal/make_da_voc_dataset/make_voc_dataset.py"
   ],
   "outputs": [
    {
     "output_type": "stream",
     "name": "stdout",
     "text": [
      "/home/jiawen/proj/MyArsenal/make_voc_dataset/VOC2007/ImageSets/Main/trainval.txt\n"
     ]
    }
   ],
   "metadata": {}
  },
  {
   "cell_type": "code",
   "execution_count": null,
   "source": [],
   "outputs": [],
   "metadata": {}
  }
 ],
 "metadata": {
  "interpreter": {
   "hash": "5066b914a5cd852e72728431db416326904205e7ddb55c07e9a0dd0f48cd14d7"
  },
  "kernelspec": {
   "display_name": "Python 3",
   "language": "python",
   "name": "python3"
  },
  "language_info": {
   "codemirror_mode": {
    "name": "ipython",
    "version": 3
   },
   "file_extension": ".py",
   "mimetype": "text/x-python",
   "name": "python",
   "nbconvert_exporter": "python",
   "pygments_lexer": "ipython3",
   "version": "3.6.10"
  }
 },
 "nbformat": 4,
 "nbformat_minor": 4
}