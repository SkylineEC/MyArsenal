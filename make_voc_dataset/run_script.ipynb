{
 "cells": [
  {
   "cell_type": "code",
   "execution_count": 1,
   "metadata": {},
   "outputs": [
    {
     "output_type": "stream",
     "name": "stdout",
     "text": [
      "100%|█████████████████████████████████████| 69863/69863 [16:51<00:00, 69.08it/s]\n",
      "100%|█████████████████████████████████████| 10000/10000 [02:05<00:00, 79.99it/s]\n",
      "{'bike', 'traffic sign', 'rider', 'person', 'motor', 'traffic light', 'train', 'truck', 'bus', 'car'}\n"
     ]
    }
   ],
   "source": [
    "!python bd100k_to_xml.py"
   ]
  },
  {
   "cell_type": "code",
   "execution_count": 2,
   "metadata": {},
   "outputs": [
    {
     "output_type": "stream",
     "name": "stdout",
     "text": [
      "70000it [29:46, 39.19it/s]\n",
      "10000it [04:33, 36.63it/s]\n",
      "----------------------------\n",
      "A total of  0  images failed to be renamed\n",
      "----------------------------\n",
      "A total of  1764  daytime clear weather images were renamed successfully\n",
      "============================\n",
      "A total of  3274  nighttime clear weather images were renamed successfully\n",
      "============================\n"
     ]
    }
   ],
   "source": [
    "!python change_name.py"
   ]
  },
  {
   "cell_type": "code",
   "execution_count": 32,
   "metadata": {},
   "outputs": [
    {
     "name": "stdout",
     "output_type": "stream",
     "text": [
      " 54%|██████████████████▎               | 19044/35340 [00:00<00:00, 22799.34it/s]\n",
      "  0%|                                                 | 0/35340 [00:00<?, ?it/s]\u001b[A\n",
      " 42%|█████████████▉                   | 14900/35340 [00:00<00:00, 148999.43it/s]\u001b[A\n",
      "\n",
      "0it [00:00, ?it/s]\u001b[A\u001b[A\n",
      "移动文件成功！\n",
      "\n",
      "\n",
      "0it [00:00, ?it/s]\u001b[A\u001b[A\n",
      "移动文件成功！\n",
      "\n",
      "100%|█████████████████████████████████| 35340/35340 [00:00<00:00, 146997.80it/s]\u001b[A\n",
      "移动文件成功！\n",
      "100%|██████████████████████████████████| 35340/35340 [00:01<00:00, 20803.79it/s]\n",
      "移动文件成功！\n",
      "  0%|                                                     | 0/2 [00:00<?, ?it/s]\n",
      "  0%|                                                 | 0/35340 [00:00<?, ?it/s]\u001b[A\n",
      "  7%|██▌                                | 2622/35340 [00:00<00:01, 26216.90it/s]\u001b[A\n",
      " 15%|█████▏                             | 5218/35340 [00:00<00:01, 26138.08it/s]\u001b[A\n",
      " 22%|███████▋                           | 7813/35340 [00:00<00:01, 26080.40it/s]\u001b[A\n",
      " 29%|██████████                        | 10407/35340 [00:00<00:00, 26036.84it/s]\u001b[A\n",
      " 37%|████████████▍                     | 12975/35340 [00:00<00:00, 25926.27it/s]\u001b[A\n",
      " 44%|██████████████▉                   | 15575/35340 [00:00<00:00, 25946.20it/s]\u001b[A\n",
      " 51%|█████████████████▍                | 18078/35340 [00:00<00:00, 25663.84it/s]\u001b[A\n",
      " 59%|███████████████████▉              | 20676/35340 [00:00<00:00, 25756.51it/s]\u001b[A\n",
      "\n",
      "0it [00:00, ?it/s]\u001b[A\u001b[A\n",
      "移动文件成功！\n",
      "\n",
      " 66%|██████████████████████▎           | 23185/35340 [00:00<00:00, 25550.18it/s]\u001b[A\n",
      " 73%|████████████████████████▊         | 25731/35340 [00:01<00:00, 25522.48it/s]\u001b[A\n",
      " 80%|███████████████████████████▎      | 28330/35340 [00:01<00:00, 25660.28it/s]\u001b[A\n",
      "\n",
      "0it [00:00, ?it/s]\u001b[A\u001b[A\n",
      "移动文件成功！\n",
      "\n",
      " 87%|█████████████████████████████▋    | 30915/35340 [00:01<00:00, 25715.72it/s]\u001b[A\n",
      "100%|██████████████████████████████████| 35340/35340 [00:01<00:00, 25735.58it/s]\u001b[A\n",
      "移动文件成功！\n",
      "100%|█████████████████████████████████████████████| 2/2 [00:01<00:00,  1.44it/s]\n",
      "移动文件成功！\n"
     ]
    }
   ],
   "source": [
    "!python /home/jiawen/proj/MyArsenal/make_da_voc_dataset/merge_dataset.py"
   ]
  },
  {
   "cell_type": "code",
   "execution_count": 4,
   "metadata": {
    "tags": []
   },
   "outputs": [
    {
     "output_type": "stream",
     "name": "stdout",
     "text": [
      "37766\n37766\n"
     ]
    }
   ],
   "source": [
    "import os\n",
    "dir1 = \"/home/jiawen/proj/datasets/VOCdevkit2007/VOC2007/JPEGImages\"\n",
    "dir2 = \"/home/jiawen/proj/datasets/VOCdevkit2007/VOC2007/Annotations\"\n",
    "print(len(os.listdir(dir1)))\n",
    "print(len(os.listdir(dir2)))"
   ]
  },
  {
   "cell_type": "code",
   "execution_count": 30,
   "metadata": {},
   "outputs": [
    {
     "name": "stdout",
     "output_type": "stream",
     "text": [
      "/home/jiawen/proj/MyArsenal/make_voc_dataset/VOC2007/ImageSets/Main/trainval.txt\n"
     ]
    }
   ],
   "source": [
    "!python /home/jiawen/proj/MyArsenal/make_da_voc_dataset/make_voc_dataset.py"
   ]
  },
  {
   "cell_type": "code",
   "execution_count": null,
   "metadata": {},
   "outputs": [],
   "source": []
  }
 ],
 "metadata": {
  "kernelspec": {
   "name": "python3",
   "display_name": "Python 3.6.10 64-bit ('py36': conda)"
  },
  "language_info": {
   "codemirror_mode": {
    "name": "ipython",
    "version": 3
   },
   "file_extension": ".py",
   "mimetype": "text/x-python",
   "name": "python",
   "nbconvert_exporter": "python",
   "pygments_lexer": "ipython3",
   "version": "3.6.10"
  },
  "interpreter": {
   "hash": "5066b914a5cd852e72728431db416326904205e7ddb55c07e9a0dd0f48cd14d7"
  }
 },
 "nbformat": 4,
 "nbformat_minor": 4
}