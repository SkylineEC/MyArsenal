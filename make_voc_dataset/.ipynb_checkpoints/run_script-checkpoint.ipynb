{
 "cells": [
  {
   "cell_type": "code",
   "execution_count": 1,
   "metadata": {},
   "outputs": [
    {
     "name": "stdout",
     "output_type": "stream",
     "text": [
      "100%|████████████████████████████████████| 69863/69863 [03:29<00:00, 333.82it/s]\n",
      "100%|████████████████████████████████████| 10000/10000 [00:28<00:00, 349.53it/s]\n",
      "{'traffic light', 'person', 'car', 'truck', 'bike', 'motor', 'train', 'bus', 'rider', 'traffic sign'}\n"
     ]
    }
   ],
   "source": [
    "!python bd100k_to_xml.py"
   ]
  },
  {
   "cell_type": "code",
   "execution_count": 18,
   "metadata": {},
   "outputs": [
    {
     "name": "stdout",
     "output_type": "stream",
     "text": [
      "  0%|                                                     | 0/2 [00:00<?, ?it/s]\n",
      "100%|████████████████████████████████████████| 43/43 [00:00<00:00, 19773.61it/s]\u001b[A\n",
      "\n",
      "0it [00:00, ?it/s]\u001b[A\n",
      "100%|████████████████████████████████████████████| 2/2 [00:00<00:00, 694.65it/s]\n",
      "  0%|                                                     | 0/1 [00:00<?, ?it/s]\n",
      "  0%|                                                     | 0/2 [00:00<?, ?it/s]\u001b[A\n",
      "\n",
      "100%|████████████████████████████████████████| 43/43 [00:00<00:00, 45880.20it/s]\u001b[A\u001b[A\n",
      "\n",
      "\n",
      "0it [00:00, ?it/s]\u001b[A\u001b[A\n",
      "100%|███████████████████████████████████████████| 2/2 [00:00<00:00, 1345.41it/s]\n",
      "100%|████████████████████████████████████████████| 1/1 [00:00<00:00, 537.94it/s]\n"
     ]
    }
   ],
   "source": [
    "!python /home/jiawen/proj/MyArsenal/delete_file.py"
   ]
  },
  {
   "cell_type": "code",
   "execution_count": 19,
   "metadata": {},
   "outputs": [
    {
     "name": "stdout",
     "output_type": "stream",
     "text": [
      "70000it [16:53, 69.06it/s]\n",
      "----------------------------\n",
      "A total of  137  images failed to be renamed\n",
      "----------------------------\n",
      "A total of  12454  daytime images were renamed successfully\n",
      "============================\n",
      "A total of  22884  daytime images were renamed successfully\n",
      "============================\n"
     ]
    }
   ],
   "source": [
    "!python change_name.py"
   ]
  },
  {
   "cell_type": "code",
   "execution_count": 32,
   "metadata": {},
   "outputs": [
    {
     "name": "stdout",
     "output_type": "stream",
     "text": [
      " 54%|██████████████████▎               | 19044/35340 [00:00<00:00, 22799.34it/s]\n",
      "  0%|                                                 | 0/35340 [00:00<?, ?it/s]\u001b[A\n",
      " 42%|█████████████▉                   | 14900/35340 [00:00<00:00, 148999.43it/s]\u001b[A\n",
      "\n",
      "0it [00:00, ?it/s]\u001b[A\u001b[A\n",
      "移动文件成功！\n",
      "\n",
      "\n",
      "0it [00:00, ?it/s]\u001b[A\u001b[A\n",
      "移动文件成功！\n",
      "\n",
      "100%|█████████████████████████████████| 35340/35340 [00:00<00:00, 146997.80it/s]\u001b[A\n",
      "移动文件成功！\n",
      "100%|██████████████████████████████████| 35340/35340 [00:01<00:00, 20803.79it/s]\n",
      "移动文件成功！\n",
      "  0%|                                                     | 0/2 [00:00<?, ?it/s]\n",
      "  0%|                                                 | 0/35340 [00:00<?, ?it/s]\u001b[A\n",
      "  7%|██▌                                | 2622/35340 [00:00<00:01, 26216.90it/s]\u001b[A\n",
      " 15%|█████▏                             | 5218/35340 [00:00<00:01, 26138.08it/s]\u001b[A\n",
      " 22%|███████▋                           | 7813/35340 [00:00<00:01, 26080.40it/s]\u001b[A\n",
      " 29%|██████████                        | 10407/35340 [00:00<00:00, 26036.84it/s]\u001b[A\n",
      " 37%|████████████▍                     | 12975/35340 [00:00<00:00, 25926.27it/s]\u001b[A\n",
      " 44%|██████████████▉                   | 15575/35340 [00:00<00:00, 25946.20it/s]\u001b[A\n",
      " 51%|█████████████████▍                | 18078/35340 [00:00<00:00, 25663.84it/s]\u001b[A\n",
      " 59%|███████████████████▉              | 20676/35340 [00:00<00:00, 25756.51it/s]\u001b[A\n",
      "\n",
      "0it [00:00, ?it/s]\u001b[A\u001b[A\n",
      "移动文件成功！\n",
      "\n",
      " 66%|██████████████████████▎           | 23185/35340 [00:00<00:00, 25550.18it/s]\u001b[A\n",
      " 73%|████████████████████████▊         | 25731/35340 [00:01<00:00, 25522.48it/s]\u001b[A\n",
      " 80%|███████████████████████████▎      | 28330/35340 [00:01<00:00, 25660.28it/s]\u001b[A\n",
      "\n",
      "0it [00:00, ?it/s]\u001b[A\u001b[A\n",
      "移动文件成功！\n",
      "\n",
      " 87%|█████████████████████████████▋    | 30915/35340 [00:01<00:00, 25715.72it/s]\u001b[A\n",
      "100%|██████████████████████████████████| 35340/35340 [00:01<00:00, 25735.58it/s]\u001b[A\n",
      "移动文件成功！\n",
      "100%|█████████████████████████████████████████████| 2/2 [00:01<00:00,  1.44it/s]\n",
      "移动文件成功！\n"
     ]
    }
   ],
   "source": [
    "!python /home/jiawen/proj/MyArsenal/make_da_voc_dataset/merge_dataset.py"
   ]
  },
  {
   "cell_type": "code",
   "execution_count": 20,
   "metadata": {},
   "outputs": [
    {
     "name": "stdout",
     "output_type": "stream",
     "text": [
      "0it [00:00, ?it/s]\n",
      "100%|████████████████████████████████████| 12454/12454 [02:04<00:00, 100.06it/s]\n",
      "100%|████████████████████████████████████| 22884/22884 [01:20<00:00, 284.55it/s]\n",
      "0it [00:00, ?it/s]\n",
      "100%|███████████████████████████████████| 12454/12454 [00:01<00:00, 6281.06it/s]\n",
      "100%|███████████████████████████████████| 22884/22884 [00:03<00:00, 6361.60it/s]\n"
     ]
    }
   ],
   "source": [
    "!python /home/jiawen/proj/MyArsenal/zip_file.py"
   ]
  },
  {
   "cell_type": "code",
   "execution_count": 30,
   "metadata": {},
   "outputs": [
    {
     "name": "stdout",
     "output_type": "stream",
     "text": [
      "/home/jiawen/proj/MyArsenal/make_voc_dataset/VOC2007/ImageSets/Main/trainval.txt\n"
     ]
    }
   ],
   "source": [
    "!python /home/jiawen/proj/MyArsenal/make_da_voc_dataset/make_voc_dataset.py"
   ]
  },
  {
   "cell_type": "code",
   "execution_count": 28,
   "metadata": {},
   "outputs": [
    {
     "name": "stdout",
     "output_type": "stream",
     "text": [
      "100%|███████████████████████████████████████████| 4/4 [00:00<00:00, 5928.34it/s]\n",
      "100%|███████████████████████████████████████████| 3/3 [00:00<00:00, 4703.89it/s]\n"
     ]
    }
   ],
   "source": [
    "!python /home/jiawen/proj/MyArsenal/zip_file.py"
   ]
  },
  {
   "cell_type": "code",
   "execution_count": null,
   "metadata": {},
   "outputs": [],
   "source": [
    "!python /home/jiawen/proj/MyArsenal/unzip.py"
   ]
  }
 ],
 "metadata": {
  "kernelspec": {
   "display_name": "Python 3",
   "language": "python",
   "name": "python3"
  },
  "language_info": {
   "codemirror_mode": {
    "name": "ipython",
    "version": 3
   },
   "file_extension": ".py",
   "mimetype": "text/x-python",
   "name": "python",
   "nbconvert_exporter": "python",
   "pygments_lexer": "ipython3",
   "version": "3.6.10"
  }
 },
 "nbformat": 4,
 "nbformat_minor": 4
}
