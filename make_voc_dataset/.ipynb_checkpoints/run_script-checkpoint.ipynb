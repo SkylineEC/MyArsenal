{
 "cells": [
  {
   "cell_type": "code",
   "execution_count": 1,
   "metadata": {},
   "outputs": [
    {
     "name": "stdout",
     "output_type": "stream",
     "text": [
      "100%|████████████████████████████████████| 69863/69863 [03:29<00:00, 333.82it/s]\n",
      "100%|████████████████████████████████████| 10000/10000 [00:28<00:00, 349.53it/s]\n",
      "{'traffic light', 'person', 'car', 'truck', 'bike', 'motor', 'train', 'bus', 'rider', 'traffic sign'}\n"
     ]
    }
   ],
   "source": [
    "!python bd100k_to_xml.py"
   ]
  },
  {
   "cell_type": "code",
   "execution_count": 6,
   "metadata": {},
   "outputs": [
    {
     "name": "stdout",
     "output_type": "stream",
     "text": [
      "  0%|                                                     | 0/2 [00:00<?, ?it/s]\n",
      "100%|███████████████████████████████████████████| 1/1 [00:00<00:00, 6626.07it/s]\u001b[A\n",
      "\n",
      "100%|██████████████████████████████████████████| 1/1 [00:00<00:00, 10305.42it/s]\u001b[A\n",
      "100%|███████████████████████████████████████████| 2/2 [00:00<00:00, 1966.85it/s]\n",
      "  0%|                                                     | 0/1 [00:00<?, ?it/s]\n",
      "  0%|                                                     | 0/2 [00:00<?, ?it/s]\u001b[A\n",
      "\n",
      "100%|██████████████████████████████████████████| 1/1 [00:00<00:00, 11214.72it/s]\u001b[A\u001b[A\n",
      "\n",
      "\n",
      "100%|██████████████████████████████████████████| 1/1 [00:00<00:00, 12671.61it/s]\u001b[A\u001b[A\n",
      "100%|███████████████████████████████████████████| 2/2 [00:00<00:00, 1699.13it/s]\n",
      "100%|████████████████████████████████████████████| 1/1 [00:00<00:00, 625.92it/s]\n"
     ]
    }
   ],
   "source": [
    "!python /home/jiawen/proj/MyArsenal/delete_file.py"
   ]
  },
  {
   "cell_type": "code",
   "execution_count": 2,
   "metadata": {},
   "outputs": [
    {
     "name": "stdout",
     "output_type": "stream",
     "text": [
      "1341it [00:40, 36.44it/s]/home/jiawen/proj/datasets/bdd100k_images_100k/bdd100k/images/100k/train/749161f9-5281a0e0.jpg Something goes wrong with this image\n",
      "2154it [01:04, 28.14it/s]/home/jiawen/proj/datasets/bdd100k_images_100k/bdd100k/images/100k/train/5691a2c2-59c9f7ed.jpg Something goes wrong with this image\n",
      "3432it [01:43, 30.57it/s]/home/jiawen/proj/datasets/bdd100k_images_100k/bdd100k/images/100k/train/75417b66-b26413f4.jpg Something goes wrong with this image\n",
      "3868it [01:57, 34.99it/s]/home/jiawen/proj/datasets/bdd100k_images_100k/bdd100k/images/100k/train/7085ac8a-afc1e733.jpg Something goes wrong with this image\n",
      "4043it [02:02, 27.87it/s]/home/jiawen/proj/datasets/bdd100k_images_100k/bdd100k/images/100k/train/67aafe4e-ba113a20.jpg Something goes wrong with this image\n",
      "4329it [02:11, 30.78it/s]/home/jiawen/proj/datasets/bdd100k_images_100k/bdd100k/images/100k/train/7adaeab3-10ec73b5.jpg Something goes wrong with this image\n",
      "4410it [02:13, 33.29it/s]/home/jiawen/proj/datasets/bdd100k_images_100k/bdd100k/images/100k/train/62bd3830-aa6cb431.jpg Something goes wrong with this image\n",
      "4508it [02:17, 22.41it/s]/home/jiawen/proj/datasets/bdd100k_images_100k/bdd100k/images/100k/train/5b54f9f0-848cd09b.jpg Something goes wrong with this image\n",
      "5410it [02:43, 31.14it/s]/home/jiawen/proj/datasets/bdd100k_images_100k/bdd100k/images/100k/train/66838ab6-1d4062e5.jpg Something goes wrong with this image\n",
      "5445it [02:44, 31.75it/s]/home/jiawen/proj/datasets/bdd100k_images_100k/bdd100k/images/100k/train/6739851f-37c84296.jpg Something goes wrong with this image\n",
      "6260it [03:09, 32.45it/s]/home/jiawen/proj/datasets/bdd100k_images_100k/bdd100k/images/100k/train/72024824-3cf37c08.jpg Something goes wrong with this image\n",
      "6648it [03:20, 31.43it/s]/home/jiawen/proj/datasets/bdd100k_images_100k/bdd100k/images/100k/train/75f56250-ee873a57.jpg Something goes wrong with this image\n",
      "7026it [03:32, 34.97it/s]/home/jiawen/proj/datasets/bdd100k_images_100k/bdd100k/images/100k/train/79df0f3c-f11ba259.jpg Something goes wrong with this image\n",
      "7658it [03:51, 32.80it/s]/home/jiawen/proj/datasets/bdd100k_images_100k/bdd100k/images/100k/train/5b1b0c34-216cd6a5.jpg Something goes wrong with this image\n",
      "7888it [03:58, 29.31it/s]/home/jiawen/proj/datasets/bdd100k_images_100k/bdd100k/images/100k/train/7df1ba2b-66efeea0.jpg Something goes wrong with this image\n",
      "8065it [04:04, 29.94it/s]/home/jiawen/proj/datasets/bdd100k_images_100k/bdd100k/images/100k/train/5fdc609c-d87d775f.jpg Something goes wrong with this image\n",
      "9520it [04:47, 35.34it/s]/home/jiawen/proj/datasets/bdd100k_images_100k/bdd100k/images/100k/train/6f7184c4-e7ec2226.jpg Something goes wrong with this image\n",
      "11012it [05:34, 34.88it/s]/home/jiawen/proj/datasets/bdd100k_images_100k/bdd100k/images/100k/train/6032f7e2-a7062c48.jpg Something goes wrong with this image\n",
      "11615it [05:54, 31.35it/s]/home/jiawen/proj/datasets/bdd100k_images_100k/bdd100k/images/100k/train/68aca905-2c504ffd.jpg Something goes wrong with this image\n",
      "11714it [05:57, 30.71it/s]/home/jiawen/proj/datasets/bdd100k_images_100k/bdd100k/images/100k/train/69687999-3bd919f4.jpg Something goes wrong with this image\n",
      "11829it [06:00, 37.75it/s]/home/jiawen/proj/datasets/bdd100k_images_100k/bdd100k/images/100k/train/5dc66059-52bfaff7.jpg Something goes wrong with this image\n",
      "12420it [06:18, 38.51it/s]/home/jiawen/proj/datasets/bdd100k_images_100k/bdd100k/images/100k/train/7a85221a-9b83dce8.jpg Something goes wrong with this image\n",
      "12483it [06:20, 30.45it/s]/home/jiawen/proj/datasets/bdd100k_images_100k/bdd100k/images/100k/train/79bb5311-1819cfb5.jpg Something goes wrong with this image\n",
      "13077it [06:38, 36.09it/s]/home/jiawen/proj/datasets/bdd100k_images_100k/bdd100k/images/100k/train/573809a9-e5a1b3b8.jpg Something goes wrong with this image\n",
      "14179it [07:13, 28.16it/s]/home/jiawen/proj/datasets/bdd100k_images_100k/bdd100k/images/100k/train/679c58f7-e9a258c2.jpg Something goes wrong with this image\n",
      "14545it [07:24, 33.42it/s]/home/jiawen/proj/datasets/bdd100k_images_100k/bdd100k/images/100k/train/5c99e5ec-7aed1c3f.jpg Something goes wrong with this image\n",
      "15224it [07:45, 33.18it/s]/home/jiawen/proj/datasets/bdd100k_images_100k/bdd100k/images/100k/train/6cf7a093-29129f20.jpg Something goes wrong with this image\n",
      "15371it [07:50, 33.77it/s]/home/jiawen/proj/datasets/bdd100k_images_100k/bdd100k/images/100k/train/65551742-016ff56a.jpg Something goes wrong with this image\n",
      "16010it [08:10, 32.58it/s]/home/jiawen/proj/datasets/bdd100k_images_100k/bdd100k/images/100k/train/6b1f5022-48037f59.jpg Something goes wrong with this image\n",
      "16654it [08:29, 31.03it/s]/home/jiawen/proj/datasets/bdd100k_images_100k/bdd100k/images/100k/train/7360cc7a-138da2b5.jpg Something goes wrong with this image\n",
      "17143it [08:45, 38.55it/s]/home/jiawen/proj/datasets/bdd100k_images_100k/bdd100k/images/100k/train/5e464562-65962983.jpg Something goes wrong with this image\n",
      "17729it [09:02, 30.70it/s]/home/jiawen/proj/datasets/bdd100k_images_100k/bdd100k/images/100k/train/66753960-186df654.jpg Something goes wrong with this image\n",
      "18393it [09:23, 33.15it/s]/home/jiawen/proj/datasets/bdd100k_images_100k/bdd100k/images/100k/train/681943bb-77050ee3.jpg Something goes wrong with this image\n",
      "18662it [09:31, 34.56it/s]/home/jiawen/proj/datasets/bdd100k_images_100k/bdd100k/images/100k/train/6fe61342-4d182f3a.jpg Something goes wrong with this image\n",
      "18950it [09:40, 30.66it/s]/home/jiawen/proj/datasets/bdd100k_images_100k/bdd100k/images/100k/train/7809356e-8e74fe0a.jpg Something goes wrong with this image\n",
      "18979it [09:41, 32.43it/s]/home/jiawen/proj/datasets/bdd100k_images_100k/bdd100k/images/100k/train/7aca5bc0-23859d6f.jpg Something goes wrong with this image\n",
      "18996it [09:41, 32.84it/s]/home/jiawen/proj/datasets/bdd100k_images_100k/bdd100k/images/100k/train/5b97b4c1-455baf62.jpg Something goes wrong with this image\n",
      "19183it [09:47, 38.39it/s]/home/jiawen/proj/datasets/bdd100k_images_100k/bdd100k/images/100k/train/5ee9e8f1-c1cd62b8.jpg Something goes wrong with this image\n",
      "19269it [09:50, 30.67it/s]/home/jiawen/proj/datasets/bdd100k_images_100k/bdd100k/images/100k/train/78c24fcc-bfe7d2da.jpg Something goes wrong with this image\n",
      "19861it [10:09, 34.70it/s]/home/jiawen/proj/datasets/bdd100k_images_100k/bdd100k/images/100k/train/5ee6af4d-e02b3213.jpg Something goes wrong with this image\n",
      "20559it [10:30, 33.16it/s]/home/jiawen/proj/datasets/bdd100k_images_100k/bdd100k/images/100k/train/67c665d7-662c6e08.jpg Something goes wrong with this image\n",
      "20936it [10:41, 33.26it/s]/home/jiawen/proj/datasets/bdd100k_images_100k/bdd100k/images/100k/train/6e9e3de7-318e1e75.jpg Something goes wrong with this image\n",
      "21794it [11:07, 33.42it/s]/home/jiawen/proj/datasets/bdd100k_images_100k/bdd100k/images/100k/train/76a40920-fc78b7cf.jpg Something goes wrong with this image\n",
      "22743it [11:35, 33.69it/s]/home/jiawen/proj/datasets/bdd100k_images_100k/bdd100k/images/100k/train/6f0cc882-8b3e2238.jpg Something goes wrong with this image\n",
      "23059it [11:46, 32.73it/s]/home/jiawen/proj/datasets/bdd100k_images_100k/bdd100k/images/100k/train/73918596-79c9e945.jpg Something goes wrong with this image\n",
      "23076it [11:46, 34.33it/s]/home/jiawen/proj/datasets/bdd100k_images_100k/bdd100k/images/100k/train/5de74ad7-9f445ae3.jpg Something goes wrong with this image\n",
      "23735it [12:06, 34.29it/s]/home/jiawen/proj/datasets/bdd100k_images_100k/bdd100k/images/100k/train/60855380-49af8931.jpg Something goes wrong with this image\n",
      "23760it [12:07, 28.11it/s]/home/jiawen/proj/datasets/bdd100k_images_100k/bdd100k/images/100k/train/6d95cfb2-60926d6d.jpg Something goes wrong with this image\n",
      "24076it [12:17, 34.61it/s]/home/jiawen/proj/datasets/bdd100k_images_100k/bdd100k/images/100k/train/6051b591-f7ec53c8.jpg Something goes wrong with this image\n",
      "24963it [12:45, 34.85it/s]/home/jiawen/proj/datasets/bdd100k_images_100k/bdd100k/images/100k/train/5f9e9266-78dac9cc.jpg Something goes wrong with this image\n",
      "24984it [12:45, 32.72it/s]/home/jiawen/proj/datasets/bdd100k_images_100k/bdd100k/images/100k/train/6235309f-a5cc4d73.jpg Something goes wrong with this image\n",
      "25326it [12:56, 35.07it/s]/home/jiawen/proj/datasets/bdd100k_images_100k/bdd100k/images/100k/train/5cd4c6d7-2051e443.jpg Something goes wrong with this image\n",
      "26838it [13:41, 24.81it/s]/home/jiawen/proj/datasets/bdd100k_images_100k/bdd100k/images/100k/train/6731a55a-3ecf9a1d.jpg Something goes wrong with this image\n",
      "27012it [13:47, 35.64it/s]/home/jiawen/proj/datasets/bdd100k_images_100k/bdd100k/images/100k/train/5d178102-9d5e50e2.jpg Something goes wrong with this image\n",
      "27101it [13:49, 31.49it/s]/home/jiawen/proj/datasets/bdd100k_images_100k/bdd100k/images/100k/train/612affad-42702404.jpg Something goes wrong with this image\n",
      "28066it [14:19, 30.56it/s]/home/jiawen/proj/datasets/bdd100k_images_100k/bdd100k/images/100k/train/63ab7273-cc691816.jpg Something goes wrong with this image\n",
      "29024it [14:48, 35.61it/s]/home/jiawen/proj/datasets/bdd100k_images_100k/bdd100k/images/100k/train/76b72431-735ebc8f.jpg Something goes wrong with this image\n",
      "29162it [14:52, 35.99it/s]/home/jiawen/proj/datasets/bdd100k_images_100k/bdd100k/images/100k/train/7a36201f-1b550e67.jpg Something goes wrong with this image\n",
      "29545it [15:04, 33.91it/s]/home/jiawen/proj/datasets/bdd100k_images_100k/bdd100k/images/100k/train/7d2efdc4-6e8949dc.jpg Something goes wrong with this image\n",
      "30328it [15:27, 25.72it/s]/home/jiawen/proj/datasets/bdd100k_images_100k/bdd100k/images/100k/train/73e07d14-c2d2f031.jpg Something goes wrong with this image\n",
      "30856it [15:43, 36.50it/s]/home/jiawen/proj/datasets/bdd100k_images_100k/bdd100k/images/100k/train/57dd03e1-7b415b61.jpg Something goes wrong with this image\n",
      "31263it [15:54, 42.67it/s]/home/jiawen/proj/datasets/bdd100k_images_100k/bdd100k/images/100k/train/65e0a5b6-08d3611c.jpg Something goes wrong with this image\n",
      "33236it [16:50, 37.60it/s]/home/jiawen/proj/datasets/bdd100k_images_100k/bdd100k/images/100k/train/5e412e85-d1452b76.jpg Something goes wrong with this image\n",
      "33599it [17:00, 37.77it/s]/home/jiawen/proj/datasets/bdd100k_images_100k/bdd100k/images/100k/train/7afd081d-1b76748c.jpg Something goes wrong with this image\n",
      "33773it [17:05, 32.89it/s]/home/jiawen/proj/datasets/bdd100k_images_100k/bdd100k/images/100k/train/7764bde0-03b1070a.jpg Something goes wrong with this image\n",
      "34088it [17:14, 33.21it/s]/home/jiawen/proj/datasets/bdd100k_images_100k/bdd100k/images/100k/train/67c665d7-5d43cd3d.jpg Something goes wrong with this image\n",
      "34332it [17:21, 32.05it/s]/home/jiawen/proj/datasets/bdd100k_images_100k/bdd100k/images/100k/train/68ce94b4-855f26a3.jpg Something goes wrong with this image\n",
      "35132it [17:44, 41.47it/s]/home/jiawen/proj/datasets/bdd100k_images_100k/bdd100k/images/100k/train/70cc96e1-1802a164.jpg Something goes wrong with this image\n",
      "35418it [17:52, 37.24it/s]/home/jiawen/proj/datasets/bdd100k_images_100k/bdd100k/images/100k/train/7a53506f-9c59128b.jpg Something goes wrong with this image\n",
      "36747it [18:29, 36.03it/s]/home/jiawen/proj/datasets/bdd100k_images_100k/bdd100k/images/100k/train/71be111b-3d2c42bf.jpg Something goes wrong with this image\n",
      "36782it [18:30, 35.04it/s]/home/jiawen/proj/datasets/bdd100k_images_100k/bdd100k/images/100k/train/79a6c89a-342f4751.jpg Something goes wrong with this image\n",
      "37248it [18:44, 37.33it/s]/home/jiawen/proj/datasets/bdd100k_images_100k/bdd100k/images/100k/train/5ead49a0-f0566b6a.jpg Something goes wrong with this image\n",
      "37709it [18:56, 35.65it/s]/home/jiawen/proj/datasets/bdd100k_images_100k/bdd100k/images/100k/train/6fdb819f-ce21ee5f.jpg Something goes wrong with this image\n",
      "38043it [19:06, 37.24it/s]/home/jiawen/proj/datasets/bdd100k_images_100k/bdd100k/images/100k/train/69061757-1459064f.jpg Something goes wrong with this image\n",
      "38959it [19:31, 35.62it/s]/home/jiawen/proj/datasets/bdd100k_images_100k/bdd100k/images/100k/train/647e8e1c-0141c492.jpg Something goes wrong with this image\n",
      "40173it [20:06, 34.02it/s]/home/jiawen/proj/datasets/bdd100k_images_100k/bdd100k/images/100k/train/7ddc420d-256fa72d.jpg Something goes wrong with this image\n",
      "40675it [20:21, 35.01it/s]/home/jiawen/proj/datasets/bdd100k_images_100k/bdd100k/images/100k/train/5c4991da-2bcce0d1.jpg Something goes wrong with this image\n",
      "41000it [20:30, 36.52it/s]/home/jiawen/proj/datasets/bdd100k_images_100k/bdd100k/images/100k/train/61239730-1811efc0.jpg Something goes wrong with this image\n",
      "41572it [20:46, 34.08it/s]/home/jiawen/proj/datasets/bdd100k_images_100k/bdd100k/images/100k/train/61676670-5ddf4aa4.jpg Something goes wrong with this image\n",
      "41849it [20:54, 32.61it/s]/home/jiawen/proj/datasets/bdd100k_images_100k/bdd100k/images/100k/train/5cf522b8-a0144375.jpg Something goes wrong with this image\n",
      "42094it [21:01, 33.85it/s]/home/jiawen/proj/datasets/bdd100k_images_100k/bdd100k/images/100k/train/6188d9b2-08ac3765.jpg Something goes wrong with this image\n",
      "42132it [21:02, 36.12it/s]/home/jiawen/proj/datasets/bdd100k_images_100k/bdd100k/images/100k/train/621a49b2-0b00f7bd.jpg Something goes wrong with this image\n",
      "43290it [21:34, 38.01it/s]/home/jiawen/proj/datasets/bdd100k_images_100k/bdd100k/images/100k/train/738820d1-958724b2.jpg Something goes wrong with this image\n",
      "43631it [21:44, 35.33it/s]/home/jiawen/proj/datasets/bdd100k_images_100k/bdd100k/images/100k/train/5ea6db6f-fa6b86fb.jpg Something goes wrong with this image\n",
      "43808it [21:49, 29.58it/s]/home/jiawen/proj/datasets/bdd100k_images_100k/bdd100k/images/100k/train/6e0fa2a3-a8f2be95.jpg Something goes wrong with this image\n",
      "44376it [22:06, 35.67it/s]/home/jiawen/proj/datasets/bdd100k_images_100k/bdd100k/images/100k/train/60595c14-113d4b8c.jpg Something goes wrong with this image\n",
      "44398it [22:06, 36.23it/s]/home/jiawen/proj/datasets/bdd100k_images_100k/bdd100k/images/100k/train/64c28530-3876deb2.jpg Something goes wrong with this image\n",
      "45411it [22:35, 39.33it/s]/home/jiawen/proj/datasets/bdd100k_images_100k/bdd100k/images/100k/train/796e51dd-c9ed72e3.jpg Something goes wrong with this image\n",
      "46072it [22:54, 33.77it/s]/home/jiawen/proj/datasets/bdd100k_images_100k/bdd100k/images/100k/train/58208859-5316743a.jpg Something goes wrong with this image\n",
      "46086it [22:54, 39.30it/s]/home/jiawen/proj/datasets/bdd100k_images_100k/bdd100k/images/100k/train/5797f14c-159e4924.jpg Something goes wrong with this image\n",
      "46870it [23:16, 37.34it/s]/home/jiawen/proj/datasets/bdd100k_images_100k/bdd100k/images/100k/train/77c27140-244a8a88.jpg Something goes wrong with this image\n",
      "47875it [23:45, 36.00it/s]/home/jiawen/proj/datasets/bdd100k_images_100k/bdd100k/images/100k/train/74c17dc8-5da29363.jpg Something goes wrong with this image\n",
      "48651it [24:08, 41.18it/s]/home/jiawen/proj/datasets/bdd100k_images_100k/bdd100k/images/100k/train/5b7255d9-350ca0b7.jpg Something goes wrong with this image\n",
      "48749it [24:11, 33.73it/s]/home/jiawen/proj/datasets/bdd100k_images_100k/bdd100k/images/100k/train/54ea83be-ce461fd7.jpg Something goes wrong with this image\n",
      "48814it [24:13, 34.62it/s]/home/jiawen/proj/datasets/bdd100k_images_100k/bdd100k/images/100k/train/7da4529f-fda6359b.jpg Something goes wrong with this image\n",
      "49408it [24:30, 39.43it/s]/home/jiawen/proj/datasets/bdd100k_images_100k/bdd100k/images/100k/train/7832d791-a1efbf0d.jpg Something goes wrong with this image\n",
      "49534it [24:34, 29.07it/s]/home/jiawen/proj/datasets/bdd100k_images_100k/bdd100k/images/100k/train/641d1337-af06cf4e.jpg Something goes wrong with this image\n",
      "49700it [24:38, 36.99it/s]/home/jiawen/proj/datasets/bdd100k_images_100k/bdd100k/images/100k/train/7cddaf5e-2bdf3965.jpg Something goes wrong with this image\n",
      "49880it [24:43, 38.14it/s]/home/jiawen/proj/datasets/bdd100k_images_100k/bdd100k/images/100k/train/5811624d-0c858bd8.jpg Something goes wrong with this image\n",
      "50332it [24:57, 31.98it/s]/home/jiawen/proj/datasets/bdd100k_images_100k/bdd100k/images/100k/train/66644eeb-b3f4ee0e.jpg Something goes wrong with this image\n",
      "50533it [25:04, 35.32it/s]/home/jiawen/proj/datasets/bdd100k_images_100k/bdd100k/images/100k/train/7c6fa554-0c165e4f.jpg Something goes wrong with this image\n",
      "51078it [25:19, 29.79it/s]/home/jiawen/proj/datasets/bdd100k_images_100k/bdd100k/images/100k/train/5ee6af4d-b34992f0.jpg Something goes wrong with this image\n",
      "51815it [25:40, 41.95it/s]/home/jiawen/proj/datasets/bdd100k_images_100k/bdd100k/images/100k/train/734ecaa0-995f18ad.jpg Something goes wrong with this image\n",
      "52101it [25:49, 36.38it/s]/home/jiawen/proj/datasets/bdd100k_images_100k/bdd100k/images/100k/train/69519e0a-60b2fb72.jpg Something goes wrong with this image\n",
      "52155it [25:50, 39.80it/s]/home/jiawen/proj/datasets/bdd100k_images_100k/bdd100k/images/100k/train/66ed92d6-a7529a59.jpg Something goes wrong with this image\n",
      "53427it [26:27, 37.46it/s]/home/jiawen/proj/datasets/bdd100k_images_100k/bdd100k/images/100k/train/64a355f1-02850b31.jpg Something goes wrong with this image\n",
      "53578it [26:31, 38.26it/s]/home/jiawen/proj/datasets/bdd100k_images_100k/bdd100k/images/100k/train/6d3eab65-1a1f9a3b.jpg Something goes wrong with this image\n",
      "53728it [26:35, 38.53it/s]/home/jiawen/proj/datasets/bdd100k_images_100k/bdd100k/images/100k/train/5cc5736c-1b3b8a9b.jpg Something goes wrong with this image\n",
      "53842it [26:38, 32.06it/s]/home/jiawen/proj/datasets/bdd100k_images_100k/bdd100k/images/100k/train/6a90b276-de74a29c.jpg Something goes wrong with this image\n",
      "54797it [27:06, 36.00it/s]/home/jiawen/proj/datasets/bdd100k_images_100k/bdd100k/images/100k/train/66cbb16a-010edd6c.jpg Something goes wrong with this image\n",
      "54885it [27:08, 31.13it/s]/home/jiawen/proj/datasets/bdd100k_images_100k/bdd100k/images/100k/train/7481cb59-0c09de18.jpg Something goes wrong with this image\n",
      "55278it [27:19, 39.85it/s]/home/jiawen/proj/datasets/bdd100k_images_100k/bdd100k/images/100k/train/608640e2-c900aca1.jpg Something goes wrong with this image\n",
      "55670it [27:30, 34.47it/s]/home/jiawen/proj/datasets/bdd100k_images_100k/bdd100k/images/100k/train/63ff2a76-e232da16.jpg Something goes wrong with this image\n",
      "56601it [27:57, 33.73it/s]/home/jiawen/proj/datasets/bdd100k_images_100k/bdd100k/images/100k/train/7944f396-18fb3eba.jpg Something goes wrong with this image\n",
      "56616it [27:57, 39.86it/s]/home/jiawen/proj/datasets/bdd100k_images_100k/bdd100k/images/100k/train/6a76c075-d995ef0a.jpg Something goes wrong with this image\n",
      "56912it [28:05, 38.43it/s]/home/jiawen/proj/datasets/bdd100k_images_100k/bdd100k/images/100k/train/69ebe4cd-d5567704.jpg Something goes wrong with this image\n",
      "57463it [28:21, 43.01it/s]/home/jiawen/proj/datasets/bdd100k_images_100k/bdd100k/images/100k/train/6fcbd17b-9cd6c3a2.jpg Something goes wrong with this image\n",
      "57844it [28:32, 35.17it/s]/home/jiawen/proj/datasets/bdd100k_images_100k/bdd100k/images/100k/train/659a7a5e-92995bc3.jpg Something goes wrong with this image\n",
      "57911it [28:34, 36.07it/s]/home/jiawen/proj/datasets/bdd100k_images_100k/bdd100k/images/100k/train/765f15fb-ef824308.jpg Something goes wrong with this image\n",
      "58005it [28:36, 39.16it/s]/home/jiawen/proj/datasets/bdd100k_images_100k/bdd100k/images/100k/train/66fab43d-46c5b8f2.jpg Something goes wrong with this image\n",
      "59290it [29:12, 42.40it/s]/home/jiawen/proj/datasets/bdd100k_images_100k/bdd100k/images/100k/train/6a42c0ab-5a1df402.jpg Something goes wrong with this image\n",
      "59678it [29:23, 39.58it/s]/home/jiawen/proj/datasets/bdd100k_images_100k/bdd100k/images/100k/train/77d72c41-7e2d85d5.jpg Something goes wrong with this image\n",
      "59902it [29:30, 36.01it/s]/home/jiawen/proj/datasets/bdd100k_images_100k/bdd100k/images/100k/train/75e66365-45cebb67.jpg Something goes wrong with this image\n",
      "61040it [30:03, 34.23it/s]/home/jiawen/proj/datasets/bdd100k_images_100k/bdd100k/images/100k/train/772eca25-a718f498.jpg Something goes wrong with this image\n",
      "61590it [30:19, 36.54it/s]/home/jiawen/proj/datasets/bdd100k_images_100k/bdd100k/images/100k/train/5ccd45ac-62dae534.jpg Something goes wrong with this image\n",
      "62197it [30:36, 35.80it/s]/home/jiawen/proj/datasets/bdd100k_images_100k/bdd100k/images/100k/train/7b0114cd-55ad1f37.jpg Something goes wrong with this image\n",
      "62569it [30:46, 36.73it/s]/home/jiawen/proj/datasets/bdd100k_images_100k/bdd100k/images/100k/train/7751b61d-71561cda.jpg Something goes wrong with this image\n",
      "62779it [30:52, 18.26it/s]/home/jiawen/proj/datasets/bdd100k_images_100k/bdd100k/images/100k/train/6521230a-c379ab8a.jpg Something goes wrong with this image\n",
      "65343it [32:06, 33.69it/s]/home/jiawen/proj/datasets/bdd100k_images_100k/bdd100k/images/100k/train/56bcdb00-0a1074d2.jpg Something goes wrong with this image\n",
      "66192it [32:29, 38.25it/s]/home/jiawen/proj/datasets/bdd100k_images_100k/bdd100k/images/100k/train/6bc8a49b-b03d2226.jpg Something goes wrong with this image\n",
      "66666it [32:43, 33.62it/s]/home/jiawen/proj/datasets/bdd100k_images_100k/bdd100k/images/100k/train/5b6dfbed-ea08eb7b.jpg Something goes wrong with this image\n",
      "68245it [33:28, 36.15it/s]/home/jiawen/proj/datasets/bdd100k_images_100k/bdd100k/images/100k/train/718c99cd-80508f57.jpg Something goes wrong with this image\n",
      "68387it [33:36,  9.86it/s]/home/jiawen/proj/datasets/bdd100k_images_100k/bdd100k/images/100k/train/75b44995-fef0153f.jpg Something goes wrong with this image\n",
      "68989it [33:54, 36.36it/s]/home/jiawen/proj/datasets/bdd100k_images_100k/bdd100k/images/100k/train/5de4c788-84dbc745.jpg Something goes wrong with this image\n",
      "69309it [34:03, 32.79it/s]/home/jiawen/proj/datasets/bdd100k_images_100k/bdd100k/images/100k/train/5d1905d8-875b2482.jpg Something goes wrong with this image\n",
      "69529it [34:09, 41.01it/s]/home/jiawen/proj/datasets/bdd100k_images_100k/bdd100k/images/100k/train/5b4727ac-d3fd8666.jpg Something goes wrong with this image\n",
      "69695it [34:13, 34.73it/s]/home/jiawen/proj/datasets/bdd100k_images_100k/bdd100k/images/100k/train/68c29514-3c867490.jpg Something goes wrong with this image\n",
      "70000it [34:22, 33.94it/s]\n",
      "----------------------------\n",
      "A total of  137  images failed to be renamed\n",
      "----------------------------\n",
      "A total of  12454  daytime images were renamed successfully\n",
      "============================\n",
      "A total of  22884  daytime images were renamed successfully\n",
      "============================\n"
     ]
    }
   ],
   "source": [
    "!python change_name.py"
   ]
  },
  {
   "cell_type": "code",
   "execution_count": null,
   "metadata": {},
   "outputs": [],
   "source": [
    "!python change_name.py"
   ]
  },
  {
   "cell_type": "code",
   "execution_count": 3,
   "metadata": {},
   "outputs": [],
   "source": [
    "!python /home/jiawen/proj/MyArsenal/make_voc_dataset/make_voc_directory.py"
   ]
  },
  {
   "cell_type": "code",
   "execution_count": 5,
   "metadata": {},
   "outputs": [
    {
     "name": "stdout",
     "output_type": "stream",
     "text": [
      "Traceback (most recent call last):\n",
      "  File \"/home/jiawen/proj/MyArsenal/make_voc_dataset/make_train_val_test_set.py\", line 81, in <module>\n",
      "    _main()\n",
      "  File \"/home/jiawen/proj/MyArsenal/make_voc_dataset/make_train_val_test_set.py\", line 57, in _main\n",
      "    ftrainval = open(trainvalPath, 'w')\n",
      "IsADirectoryError: [Errno 21] Is a directory: '/home/jiawen/proj/MyArsenal/make_voc_dataset/VOC2007/trainval.txt'\n"
     ]
    }
   ],
   "source": [
    "!python /home/jiawen/proj/MyArsenal/make_voc_dataset/make_train_val_test_set.py"
   ]
  },
  {
   "cell_type": "code",
   "execution_count": null,
   "metadata": {},
   "outputs": [],
   "source": []
  }
 ],
 "metadata": {
  "kernelspec": {
   "display_name": "Python 3",
   "language": "python",
   "name": "python3"
  },
  "language_info": {
   "codemirror_mode": {
    "name": "ipython",
    "version": 3
   },
   "file_extension": ".py",
   "mimetype": "text/x-python",
   "name": "python",
   "nbconvert_exporter": "python",
   "pygments_lexer": "ipython3",
   "version": "3.6.10"
  }
 },
 "nbformat": 4,
 "nbformat_minor": 4
}
